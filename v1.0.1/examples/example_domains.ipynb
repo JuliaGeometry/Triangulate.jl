{
 "cells": [
  {
   "cell_type": "markdown",
   "source": [
    "Triangulations of domains\n",
    "===========================\n",
    "\n",
    "These examples can be loaded into Julia (Revise.jl recommended)\n",
    "and run by calling one of the methods with the optional arguments \"Plotter=PyPlot\".\n",
    "Alternatively, you can download a [jupyter notebook](example_domains.ipynb) created\n",
    "from this source."
   ],
   "metadata": {}
  },
  {
   "cell_type": "markdown",
   "source": [
    "Set  up environment"
   ],
   "metadata": {}
  },
  {
   "outputs": [],
   "cell_type": "code",
   "source": [
    "using Triangulate\n",
    "using Test\n",
    "using Printf\n",
    "\n",
    "injupyter()=(isdefined(Main, :IJulia) && Main.IJulia.inited)\n",
    "\n",
    "if injupyter()\n",
    "    import PyPlot\n",
    "end"
   ],
   "metadata": {},
   "execution_count": 1
  },
  {
   "cell_type": "markdown",
   "source": [
    "### Constrained Delaunay triangulation (CDT) of a domain given by a segment list specifying its boundary.\n",
    "\n",
    "This is obtained by\n",
    "specifying the \"p\" flag."
   ],
   "metadata": {}
  },
  {
   "outputs": [
    {
     "output_type": "execute_result",
     "data": {
      "text/plain": "example_domain_cdt (generic function with 1 method)"
     },
     "metadata": {},
     "execution_count": 2
    }
   ],
   "cell_type": "code",
   "source": [
    "function example_domain_cdt(;Plotter=nothing)\n",
    "    triin=Triangulate.TriangulateIO()\n",
    "    triin.pointlist=Matrix{Cdouble}([0.0 0.0 ; 1.0 0.0 ; 1.0  1.0 ; 0.6 0.6; 0.0 1.0]')\n",
    "    triin.segmentlist=Matrix{Cint}([1 2 ; 2 3 ; 3 4 ; 4 5 ; 5 1 ]')\n",
    "    triin.segmentmarkerlist=Vector{Int32}([1, 2, 3, 4, 5])\n",
    "    display(triin)\n",
    "    (triout, vorout)=triangulate(\"pQ\", triin)\n",
    "    display(triout)\n",
    "    plot_in_out(Plotter,triin,triout,title=\"Domain triangulation\")\n",
    "    @test numberofpoints(triout)>=numberofpoints(triin)\n",
    "    @test numberofsegments(triout)>=numberofsegments(triin)\n",
    "    @test numberoftriangles(triout)>0\n",
    "end"
   ],
   "metadata": {},
   "execution_count": 2
  },
  {
   "outputs": [],
   "cell_type": "code",
   "source": [
    "injupyter() && example_domain_cdt(Plotter=PyPlot);"
   ],
   "metadata": {},
   "execution_count": 3
  },
  {
   "cell_type": "markdown",
   "source": [
    "### Constrained Delaunay triangulation (CDT) of a domain given by a segment list specifying its boundary together with a maximum  area constraint.\n",
    "\n",
    "This constraint is specfied as a floating\n",
    "point number given after the -a flag.\n",
    "Be careful to not give it in the exponential format as Triangle would be unable to analyse it.\n",
    "Therefore it is dangerous to a number in the string interpolation and it is better to convert\n",
    "it to a string before using `@sprintf`.\n",
    "Specifying only the maximum area constraint does not prevent very thin\n",
    "triangles from occuring at the boundary."
   ],
   "metadata": {}
  },
  {
   "outputs": [
    {
     "output_type": "execute_result",
     "data": {
      "text/plain": "example_domain_cdt_area (generic function with 1 method)"
     },
     "metadata": {},
     "execution_count": 4
    }
   ],
   "cell_type": "code",
   "source": [
    "function example_domain_cdt_area(;Plotter=nothing,maxarea=0.05)\n",
    "    triin=Triangulate.TriangulateIO()\n",
    "    triin.pointlist=Matrix{Cdouble}([0.0 0.0 ; 1.0 0.0 ; 1.0  1.0 ; 0.6 0.6; 0.0 1.0]')\n",
    "    triin.segmentlist=Matrix{Cint}([1 2 ; 2 3 ; 3 4 ; 4 5 ; 5 1 ]')\n",
    "    triin.segmentmarkerlist=Vector{Int32}([1, 2, 3, 4, 5])\n",
    "    area=@sprintf(\"%.15f\",maxarea) # Don't use exponential format!\n",
    "    display(triin)\n",
    "    (triout, vorout)=triangulate(\"pa$(area)Q\", triin)\n",
    "    display(triout)\n",
    "    plot_in_out(Plotter,triin,triout,voronoi=vorout, title=\"Domain CDT with area constraint\")\n",
    "    @test numberofpoints(triout)>=numberofpoints(triin)\n",
    "    @test numberofsegments(triout)>=numberofsegments(triin)\n",
    "    @test numberoftriangles(triout)>0\n",
    "end"
   ],
   "metadata": {},
   "execution_count": 4
  },
  {
   "outputs": [],
   "cell_type": "code",
   "source": [
    "injupyter() && example_domain_cdt_area(Plotter=PyPlot,maxarea=0.05);"
   ],
   "metadata": {},
   "execution_count": 5
  },
  {
   "cell_type": "markdown",
   "source": [
    "### Boundary conforming  Delaunay triangulation (BCDT) of a domain given by a segment list specifying its boundary\n",
    "In addition to the area constraint specify the -D flag\n",
    "in order to keep the triangle circumcenters  within the domain."
   ],
   "metadata": {}
  },
  {
   "outputs": [
    {
     "output_type": "execute_result",
     "data": {
      "text/plain": "example_domain_bcdt_area (generic function with 1 method)"
     },
     "metadata": {},
     "execution_count": 6
    }
   ],
   "cell_type": "code",
   "source": [
    "function example_domain_bcdt_area(;Plotter=nothing,maxarea=0.05)\n",
    "    triin=Triangulate.TriangulateIO()\n",
    "    triin.pointlist=Matrix{Cdouble}([0.0 0.0 ; 1.0 0.0 ; 1.0  1.0 ; 0.6 0.6; 0.0 1.0]')\n",
    "    triin.segmentlist=Matrix{Cint}([1 2 ; 2 3 ; 3 4 ; 4 5 ; 5 1 ]')\n",
    "    triin.segmentmarkerlist=Vector{Int32}([1, 2, 3, 4, 5])\n",
    "    display(triin)\n",
    "    area=@sprintf(\"%.15f\",maxarea)\n",
    "    (triout, vorout)=triangulate(\"pa$(area)DQ\", triin)\n",
    "    display(triout)\n",
    "    plot_in_out(Plotter,triin,triout,voronoi=vorout, title=\"Boundary conforming Delaunay triangulation\")\n",
    "    @test numberofpoints(triout)>=numberofpoints(triin)\n",
    "    @test numberofsegments(triout)>=numberofsegments(triin)\n",
    "    @test numberoftriangles(triout)>0\n",
    "end"
   ],
   "metadata": {},
   "execution_count": 6
  },
  {
   "outputs": [],
   "cell_type": "code",
   "source": [
    "injupyter() && example_domain_bcdt_area(Plotter=PyPlot,maxarea=0.05);"
   ],
   "metadata": {},
   "execution_count": 7
  },
  {
   "cell_type": "markdown",
   "source": [
    "### Constrained Delaunay triangulation of a domain with minimum angle condition\n",
    "\n",
    "The \"q\" flag  allows to specify a minimum angle\n",
    "constraint preventing skinny triangles.\n",
    "\n",
    "This combination of flags, possibly with an additional \"D\" flag is recommended\n",
    "when creating triangulations for finite element or finite volume methods.\n",
    "It the mimimum angle is larger then 28.6 degrees, Triangle's algorithm may\n",
    "run into an infinite loop."
   ],
   "metadata": {}
  },
  {
   "outputs": [
    {
     "output_type": "execute_result",
     "data": {
      "text/plain": "example_domain_qcdt_area (generic function with 1 method)"
     },
     "metadata": {},
     "execution_count": 8
    }
   ],
   "cell_type": "code",
   "source": [
    "function example_domain_qcdt_area(;Plotter=nothing,minangle=20, maxarea=0.05)\n",
    "    triin=Triangulate.TriangulateIO()\n",
    "    triin.pointlist=Matrix{Cdouble}([0.0 0.0 ; 1.0 0.0 ; 1.0  1.0 ; 0.6 0.6; 0.0 1.0]')\n",
    "    triin.segmentlist=Matrix{Cint}([1 2 ; 2 3 ; 3 4 ; 4 5 ; 5 1 ]')\n",
    "    triin.segmentmarkerlist=Vector{Int32}([1, 2, 3, 4, 5])\n",
    "    display(triin)\n",
    "    area=@sprintf(\"%.15f\",maxarea)\n",
    "    angle=@sprintf(\"%.15f\",minangle)\n",
    "    (triout, vorout)=triangulate(\"pa$(area)q$(angle)\", triin)\n",
    "    display(triout)\n",
    "    plot_in_out(Plotter,triin,triout,voronoi=vorout, title=\"Quality triangulation\")\n",
    "    @test numberofpoints(triout)>=numberofpoints(triin)\n",
    "    @test numberofsegments(triout)>=numberofsegments(triin)\n",
    "    @test numberoftriangles(triout)>0\n",
    "\n",
    "end"
   ],
   "metadata": {},
   "execution_count": 8
  },
  {
   "outputs": [],
   "cell_type": "code",
   "source": [
    "injupyter() && example_domain_qcdt_area(Plotter=PyPlot,maxarea=0.05,minangle=20);"
   ],
   "metadata": {},
   "execution_count": 9
  },
  {
   "cell_type": "markdown",
   "source": [
    "### Triangulation of a domain with refinement callback\n",
    "\n",
    "A maximum area constraint is specified in the `unsuitable` callback\n",
    "which is activated via the \"u\" flag if it has been passed before calling triangulate.\n",
    "In addition, the \"q\" flag  allows to specify a minimum angle\n",
    "constraint preventing skinny triangles."
   ],
   "metadata": {}
  },
  {
   "outputs": [
    {
     "output_type": "execute_result",
     "data": {
      "text/plain": "example_domain_localref (generic function with 1 method)"
     },
     "metadata": {},
     "execution_count": 10
    }
   ],
   "cell_type": "code",
   "source": [
    "function example_domain_localref(;Plotter=nothing,minangle=20)\n",
    "    center_x=0.6\n",
    "    center_y=0.6\n",
    "    localdist=0.1\n",
    "    function unsuitable(x1,y1,x2,y2,x3,y3,area)\n",
    "        bary_x=(x1+x2+x3)/3.0\n",
    "        bary_y=(y1+y2+y3)/3.0\n",
    "        dx=bary_x-center_x\n",
    "        dy=bary_y-center_y\n",
    "        qdist=dx^2+dy^2\n",
    "        qdist>1.0e-5 && area>0.1*qdist\n",
    "    end\n",
    "\n",
    "    triunsuitable(unsuitable)\n",
    "    triin=Triangulate.TriangulateIO()\n",
    "    triin.pointlist=Matrix{Cdouble}([0.0 0.0 ; 1.0 0.0 ; 1.0  1.0 ; 0.6 0.6; 0.0 1.0]')\n",
    "    triin.segmentlist=Matrix{Cint}([1 2 ; 2 3 ; 3 4 ; 4 5 ; 5 1 ]')\n",
    "    triin.segmentmarkerlist=Vector{Int32}([1, 2, 3, 4, 5])\n",
    "    display(triin)\n",
    "    angle=@sprintf(\"%.15f\",minangle)\n",
    "    (triout, vorout)=triangulate(\"pauq$(angle)Q\", triin)\n",
    "    display(triout)\n",
    "    plot_in_out(Plotter,triin,triout,voronoi=vorout, title=\"Quality triangulation with local refinement\")\n",
    "    @test numberofpoints(triout)>=numberofpoints(triin)\n",
    "    @test numberofsegments(triout)>=numberofsegments(triin)\n",
    "    @test numberoftriangles(triout)>0\n",
    "end"
   ],
   "metadata": {},
   "execution_count": 10
  },
  {
   "outputs": [],
   "cell_type": "code",
   "source": [
    "injupyter() && example_domain_localref(Plotter=PyPlot,minangle=20);"
   ],
   "metadata": {},
   "execution_count": 11
  },
  {
   "cell_type": "markdown",
   "source": [
    "### Triangulation of a heterogeneous domain\n",
    "\n",
    "The segment list specifies its boundary and the inner boundary between subdomains.\n",
    "An additional region list is specified which provides \"region points\" in `regionlist[1,:]`\n",
    "and `regionlist[2,:]`.  These kind of mark the subdomains. `regionlist[3,:]` contains an attribute\n",
    "which labels the subdomains. `regionlist[4,:]` contains a maximum area value. `size(regionlist,2)`\n",
    "is the number of regions.\n",
    "\n",
    "With the \"A\" flag, the subdomain labels are spread to all triangles in the corresponding\n",
    "subdomains, becoming available in `triangleattributelist[1,:]`.\n",
    "With the \"a\" flag, the area constraints are applied in the corresponding subdomains."
   ],
   "metadata": {}
  },
  {
   "outputs": [
    {
     "output_type": "execute_result",
     "data": {
      "text/plain": "example_domain_regions (generic function with 1 method)"
     },
     "metadata": {},
     "execution_count": 12
    }
   ],
   "cell_type": "code",
   "source": [
    "function example_domain_regions(;Plotter=nothing,minangle=20)\n",
    "    triin=Triangulate.TriangulateIO()\n",
    "    triin.pointlist=Matrix{Cdouble}([0.0 0.0 ;0.5 0.0; 1.0 0.0 ; 1.0  1.0 ; 0.6 0.6; 0.0 1.0]')\n",
    "    triin.segmentlist=Matrix{Cint}([1 2 ; 2 3 ;3 4 ; 4 5 ; 5 6 ; 6 1 ; 2 5]')\n",
    "    triin.segmentmarkerlist=Vector{Int32}([1, 2, 3, 4, 5, 6, 7])\n",
    "    triin.regionlist=Matrix{Cdouble}([0.2 0.8; 0.2 0.2; 1 2 ; 0.01 0.05])\n",
    "    display(triin)\n",
    "    angle=@sprintf(\"%.15f\",minangle)\n",
    "    (triout, vorout)=triangulate(\"paAq$(angle)Q\", triin)\n",
    "    display(triout)\n",
    "\n",
    "    plot_in_out(Plotter,triin,triout,voronoi=vorout, title=\"Hetero domain triangulation\")\n",
    "\n",
    "    @test numberofpoints(triout)>=numberofpoints(triin)\n",
    "    @test numberofsegments(triout)>=numberofsegments(triin)\n",
    "    @test numberoftriangles(triout)>0\n",
    "end"
   ],
   "metadata": {},
   "execution_count": 12
  },
  {
   "outputs": [],
   "cell_type": "code",
   "source": [
    "injupyter() && example_domain_regions(Plotter=PyPlot,minangle=20);"
   ],
   "metadata": {},
   "execution_count": 13
  },
  {
   "cell_type": "markdown",
   "source": [
    "### Triangulation of a domain with holes\n",
    "\n",
    "The segment list specifies its boundary and the boundaries of the holes.\n",
    "An additional hole list is specified which provides \"hole points\" in `holelist[1,:]`\n",
    "and `holelist[2,:]`."
   ],
   "metadata": {}
  },
  {
   "outputs": [
    {
     "output_type": "execute_result",
     "data": {
      "text/plain": "example_domain_holes (generic function with 1 method)"
     },
     "metadata": {},
     "execution_count": 14
    }
   ],
   "cell_type": "code",
   "source": [
    "function example_domain_holes(;Plotter=nothing,minangle=20,maxarea=0.001)\n",
    "    triin=Triangulate.TriangulateIO()\n",
    "    triin.pointlist=Matrix{Cdouble}([0.0 0.0;\n",
    "                                     1.0 0.0;\n",
    "                                     1.0 1.0;\n",
    "                                     0.0 1.0;\n",
    "                                     0.2 0.2;\n",
    "                                     0.3 0.2;\n",
    "                                     0.3 0.3;\n",
    "                                     0.2 0.3;\n",
    "                                     0.6 0.6;\n",
    "                                     0.7 0.6;\n",
    "                                     0.7 0.7;\n",
    "                                     0.6 0.7;\n",
    "                                     ]')\n",
    "    triin.segmentlist=Matrix{Cint}([1 2; 2 3; 3 4; 4 1; 5 6; 6 7; 7 8; 8 5;  9 10; 10 11; 11 12; 12 9;]')\n",
    "    triin.segmentmarkerlist=Vector{Int32}([1, 1,1,1, 2,2,2,2, 3,3,3,3])\n",
    "    triin.holelist=[0.25 0.25; 0.65 0.65;]'\n",
    "    display(triin)\n",
    "    area=@sprintf(\"%.15f\",maxarea) # Don't use exponential format!\n",
    "    angle=@sprintf(\"%.15f\",minangle)\n",
    "    (triout, vorout)=triangulate(\"pa$(area)q$(angle)Q\", triin)\n",
    "    display(triout)\n",
    "\n",
    "    plot_in_out(Plotter,triin,triout,voronoi=vorout, title=\"Domain with holes\")\n",
    "\n",
    "    @test numberofpoints(triout)>=numberofpoints(triin)\n",
    "    @test numberofsegments(triout)>=numberofsegments(triin)\n",
    "    @test numberoftriangles(triout)>0\n",
    "end"
   ],
   "metadata": {},
   "execution_count": 14
  },
  {
   "outputs": [],
   "cell_type": "code",
   "source": [
    "injupyter() && example_domain_holes(Plotter=PyPlot,minangle=20,maxarea=0.05);"
   ],
   "metadata": {},
   "execution_count": 15
  },
  {
   "cell_type": "markdown",
   "source": [
    "---\n",
    "\n",
    "*This notebook was generated using [Literate.jl](https://github.com/fredrikekre/Literate.jl).*"
   ],
   "metadata": {}
  }
 ],
 "nbformat_minor": 3,
 "metadata": {
  "language_info": {
   "file_extension": ".jl",
   "mimetype": "application/julia",
   "name": "julia",
   "version": "1.5.3"
  },
  "kernelspec": {
   "name": "julia-1.5",
   "display_name": "Julia 1.5.3",
   "language": "julia"
  }
 },
 "nbformat": 4
}
