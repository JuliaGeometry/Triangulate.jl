{
 "cells": [
  {
   "cell_type": "markdown",
   "source": [
    "Triangulations of point sets\n",
    "===========================\n",
    "\n",
    "\n",
    "These examples can be loaded into Julia (Revise.jl recommended)\n",
    "and run by calling one of the methods with the optional arguments \"Plotter=PyPlot\".\n",
    "Alternatively, you can download a [jupyter notebook](example_pointsets.ipynb) created\n",
    "from this source."
   ],
   "metadata": {}
  },
  {
   "cell_type": "markdown",
   "source": [
    "Set  up environment"
   ],
   "metadata": {}
  },
  {
   "outputs": [],
   "cell_type": "code",
   "source": [
    "using Triangulate\n",
    "using Test\n",
    "\n",
    "injupyter()=(isdefined(Main, :IJulia) && Main.IJulia.inited)\n",
    "\n",
    "if injupyter()\n",
    "    import PyPlot\n",
    "end"
   ],
   "metadata": {},
   "execution_count": 1
  },
  {
   "cell_type": "markdown",
   "source": [
    "### Delaunay triangulation of point set\n",
    "\n",
    "Create a set of random points in the plane and calculate\n",
    "the Delaunay triangulation of this set of points. It is a triangulation\n",
    "where for each triangle, the interior of its circumcircle  does not contain any points\n",
    "of the trianglation.\n",
    "\n",
    "The Delaunay triangulation of a set of points in general position\n",
    "(no 4 of them on a circle) is unique. At the same time, it is a\n",
    "triangulation of the convex hull of these points.\n",
    "\n",
    "Given an input list of points, without any further flags, Triangle creates\n",
    "just this triangulation (the \"Q\" flag suppresses the text output of Triangle).\n",
    "For this and the next examples, the input list of points is created randomly,\n",
    "but on a raster, preventing the appearance of too close points."
   ],
   "metadata": {}
  },
  {
   "outputs": [
    {
     "output_type": "execute_result",
     "data": {
      "text/plain": "example_convex_hull (generic function with 1 method)"
     },
     "metadata": {},
     "execution_count": 2
    }
   ],
   "cell_type": "code",
   "source": [
    "function example_convex_hull(;Plotter=nothing,n=10,raster=10)\n",
    "    triin=Triangulate.TriangulateIO()\n",
    "    triin.pointlist=hcat(unique([ Cdouble[rand(1:raster)/raster, rand(1:raster)/raster] for i in 1:n])...)\n",
    "    display(triin)\n",
    "    (triout, vorout)=triangulate(\"Q\", triin)\n",
    "    display(triout)\n",
    "    plot_in_out(Plotter,triin,triout,title=\"Convex hull\")\n",
    "    @test numberofpoints(triin)==numberofpoints(triout)\n",
    "    @test numberoftriangles(triout)>0\n",
    "end"
   ],
   "metadata": {},
   "execution_count": 2
  },
  {
   "outputs": [],
   "cell_type": "code",
   "source": [
    "injupyter()&& example_convex_hull(Plotter=PyPlot,n=10,raster=10);"
   ],
   "metadata": {},
   "execution_count": 3
  },
  {
   "cell_type": "markdown",
   "source": [
    "### Delaunay triangulation of point set with boundary\n",
    "\n",
    "Same as the previous example, but in addition specify the \"c\" flag\n",
    "In this case, Triangle outputs an additional list of segments\n",
    "describing the boundary of the convex hull. In fact this is a constrained\n",
    "Delaunay triangulation (CDT) where the boundary segments\n",
    "are the seen constraining edges which must appear in the output."
   ],
   "metadata": {}
  },
  {
   "outputs": [
    {
     "output_type": "execute_result",
     "data": {
      "text/plain": "example_convex_hull_with_boundary (generic function with 1 method)"
     },
     "metadata": {},
     "execution_count": 4
    }
   ],
   "cell_type": "code",
   "source": [
    "function example_convex_hull_with_boundary(;Plotter=nothing,n=10,raster=10)\n",
    "    triin=Triangulate.TriangulateIO()\n",
    "    triin.pointlist=hcat(unique([ Cdouble[rand(1:raster)/raster, rand(1:raster)/raster] for i in 1:n])...)\n",
    "    display(triin)\n",
    "    (triout, vorout)=triangulate(\"cQ\", triin)\n",
    "    display(triout)\n",
    "    @test numberofpoints(triin)==numberofpoints(triout)\n",
    "    @test numberoftriangles(triout)>0\n",
    "    @test numberofsegments(triout)>0\n",
    "    plot_in_out(Plotter,triin,triout,title=\"Convex hull with boundary\")\n",
    "end"
   ],
   "metadata": {},
   "execution_count": 4
  },
  {
   "outputs": [],
   "cell_type": "code",
   "source": [
    "injupyter()&&  example_convex_hull_with_boundary(Plotter=PyPlot,n=10,raster=10);"
   ],
   "metadata": {},
   "execution_count": 5
  },
  {
   "cell_type": "markdown",
   "source": [
    "### Delaunay triangulation of point set with Voronoi diagram\n",
    "\n",
    "Same as the previous example, but instead of \"c\" specify the \"v\" flag\n",
    "In this case, Triangle outputs information about the Voronoi diagram\n",
    "of the point set which is a structure dual to  the Delaunay triangulation.\n",
    "\n",
    "The Voronoi cell around a point $p$ a point set $S$ is defined\n",
    "as the set of points $x$ such that $|x-p|<|x-q|$ for all $q\\in S$\n",
    "such that $p\\neq q$.\n",
    "The Voronoi cells of boundary points\n",
    "of the convex hull are of infinite size. The corners of the Voronoi\n",
    "cells are the circumcenters of the triangles. They can be far\n",
    "outside of the triangulated domain."
   ],
   "metadata": {}
  },
  {
   "outputs": [
    {
     "output_type": "execute_result",
     "data": {
      "text/plain": "example_convex_hull_voronoi (generic function with 1 method)"
     },
     "metadata": {},
     "execution_count": 6
    }
   ],
   "cell_type": "code",
   "source": [
    "function example_convex_hull_voronoi(;Plotter=nothing,n=10,raster=10)\n",
    "    triin=Triangulate.TriangulateIO()\n",
    "    triin.pointlist=hcat(unique([ Cdouble[rand(1:raster)/raster, rand(1:raster)/raster] for i in 1:n])...)\n",
    "    display(triin)\n",
    "    (triout, vorout)=triangulate(\"vQ\", triin)\n",
    "    display(triout)\n",
    "    display(vorout)\n",
    "    plot_in_out(Plotter,triin,triout,voronoi=vorout,title=\"Convex hull with Voronoi diagram\")\n",
    "    @test numberofpoints(triin)==numberofpoints(triout)\n",
    "    @test numberoftriangles(triout)>0\n",
    "    @test numberofpoints(vorout)>0\n",
    "end"
   ],
   "metadata": {},
   "execution_count": 6
  },
  {
   "outputs": [],
   "cell_type": "code",
   "source": [
    "injupyter()&&  example_convex_hull_voronoi(Plotter=PyPlot,n=10,raster=10);"
   ],
   "metadata": {},
   "execution_count": 7
  },
  {
   "cell_type": "markdown",
   "source": [
    "### Boundary conforming Delaunay triangulation of point set\n",
    "Specify \"c\" flag for convex hull segments, \"v\" flag for Voronoi\n",
    "and \"D\" flag for creating a boundary conforming Delaunay triangulation of\n",
    "the point set. In this case additional points are created which split\n",
    "the boundary segments and ensure that all triangle circumcenters\n",
    "lie within the convex hull.\n",
    "Due to random input, there may be situations where Triangle fails with this task,\n",
    "so we check for the corresponding exception."
   ],
   "metadata": {}
  },
  {
   "outputs": [
    {
     "output_type": "execute_result",
     "data": {
      "text/plain": "example_convex_hull_voronoi_delaunay (generic function with 1 method)"
     },
     "metadata": {},
     "execution_count": 8
    }
   ],
   "cell_type": "code",
   "source": [
    "function example_convex_hull_voronoi_delaunay(;Plotter=nothing,n=10,raster=10)\n",
    "    triin=Triangulate.TriangulateIO()\n",
    "    triin.pointlist=hcat(unique([ Cdouble[rand(1:raster)/raster, rand(1:raster)/raster] for i in 1:n])...)\n",
    "    display(triin)\n",
    "    try\n",
    "        (triout, vorout)=triangulate(\"vcDQ\", triin)\n",
    "        plot_in_out(Plotter,triin,triout,voronoi=vorout,title=\"Convex hull with Voronoi diagram\")\n",
    "        display(triout)\n",
    "        display(vorout)\n",
    "        @test numberofpoints(triin)<=numberofpoints(triout)\n",
    "        @test numberoftriangles(triout)>0\n",
    "        @test numberofpoints(vorout)>0\n",
    "    catch err\n",
    "        if typeof(err)==TriangulateError\n",
    "            println(\"Triangle had some problem.\")\n",
    "            return true\n",
    "        end\n",
    "    end\n",
    "end"
   ],
   "metadata": {},
   "execution_count": 8
  },
  {
   "outputs": [],
   "cell_type": "code",
   "source": [
    "injupyter()&&  example_convex_hull_voronoi_delaunay(Plotter=PyPlot,n=10,raster=10);"
   ],
   "metadata": {},
   "execution_count": 9
  },
  {
   "cell_type": "markdown",
   "source": [
    "### Constrained Delaunay triangulation (CDT) of a point set with edges\n",
    "Constrained Delaunay triangulation (CDT) of a point set with\n",
    "additional constraints given a priori. This is obtained when\n",
    "specifying the \"p\" flag and an additional list of segments each described\n",
    "by two points\n",
    "which should become edges of the triangulation. Note that\n",
    "the resulting triangulation is not Delaunay in the sense\n",
    "given above."
   ],
   "metadata": {}
  },
  {
   "outputs": [
    {
     "output_type": "execute_result",
     "data": {
      "text/plain": "example_cdt (generic function with 1 method)"
     },
     "metadata": {},
     "execution_count": 10
    }
   ],
   "cell_type": "code",
   "source": [
    "function example_cdt(;Plotter=nothing,n=10,raster=10)\n",
    "    triin=Triangulate.TriangulateIO()\n",
    "    triin.pointlist=hcat(unique([ Cdouble[rand(1:raster)/raster, rand(1:raster)/raster] for i in 1:n])...)\n",
    "    npt=size(triin.pointlist,2)\n",
    "    triin.segmentlist=Matrix{Cint}([1 2; npt-1 npt-2;  1 npt;]')\n",
    "    triin.segmentmarkerlist=Vector{Cint}([2,3,4])\n",
    "    display(triin)\n",
    "    (triout, vorout)=triangulate(\"pcQ\", triin)\n",
    "    display(triout)\n",
    "    plot_in_out(Plotter,triin,triout,title=\"CDT\")\n",
    "    @test numberofpoints(triin)<=numberofpoints(triout)\n",
    "    @test numberofsegments(triout)>=numberofsegments(triin)\n",
    "    @test numberoftriangles(triout)>0\n",
    "end"
   ],
   "metadata": {},
   "execution_count": 10
  },
  {
   "outputs": [],
   "cell_type": "code",
   "source": [
    "injupyter()&&  example_cdt(Plotter=PyPlot,n=10,raster=10);"
   ],
   "metadata": {},
   "execution_count": 11
  },
  {
   "cell_type": "markdown",
   "source": [
    "---\n",
    "\n",
    "*This notebook was generated using [Literate.jl](https://github.com/fredrikekre/Literate.jl).*"
   ],
   "metadata": {}
  }
 ],
 "nbformat_minor": 3,
 "metadata": {
  "language_info": {
   "file_extension": ".jl",
   "mimetype": "application/julia",
   "name": "julia",
   "version": "1.5.3"
  },
  "kernelspec": {
   "name": "julia-1.5",
   "display_name": "Julia 1.5.3",
   "language": "julia"
  }
 },
 "nbformat": 4
}
